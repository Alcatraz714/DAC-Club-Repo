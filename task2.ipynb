{
  "nbformat": 4,
  "nbformat_minor": 0,
  "metadata": {
    "colab": {
      "name": "Untitled0.ipynb",
      "provenance": []
    },
    "kernelspec": {
      "name": "python3",
      "display_name": "Python 3"
    },
    "language_info": {
      "name": "python"
    }
  },
  "cells": [
    {
      "cell_type": "markdown",
      "metadata": {
        "id": "5OOUfNeAnSm8"
      },
      "source": [
        "**CARS DATASET**\n",
        "\n",
        "\n",
        "\n",
        "\n"
      ]
    },
    {
      "cell_type": "code",
      "metadata": {
        "id": "zHAcPoAUkHEW"
      },
      "source": [
        "import pandas as pd\n",
        "import numpy as np\n",
        "import matplotlib.pyplot as plt\n",
        "from sklearn.preprocessing import OneHotEncoder\n",
        "from sklearn.compose import ColumnTransformer"
      ],
      "execution_count": 1,
      "outputs": []
    },
    {
      "cell_type": "markdown",
      "metadata": {
        "id": "nFlqa39ZpYRl"
      },
      "source": [
        "**DATASET USED**"
      ]
    },
    {
      "cell_type": "code",
      "metadata": {
        "colab": {
          "base_uri": "https://localhost:8080/",
          "height": 419
        },
        "id": "YiAmoFQ1m-Uc",
        "outputId": "dc1a210a-b055-4ea4-c1a2-c92be69381b3"
      },
      "source": [
        "dataset = pd.read_csv(\"Car.csv\")\n",
        "x = dataset.iloc[:,[6,5,4,1,3]].values\n",
        "y = dataset.iloc[:,2].values\n",
        "pd.DataFrame(x)"
      ],
      "execution_count": 3,
      "outputs": [
        {
          "output_type": "execute_result",
          "data": {
            "text/html": [
              "<div>\n",
              "<style scoped>\n",
              "    .dataframe tbody tr th:only-of-type {\n",
              "        vertical-align: middle;\n",
              "    }\n",
              "\n",
              "    .dataframe tbody tr th {\n",
              "        vertical-align: top;\n",
              "    }\n",
              "\n",
              "    .dataframe thead th {\n",
              "        text-align: right;\n",
              "    }\n",
              "</style>\n",
              "<table border=\"1\" class=\"dataframe\">\n",
              "  <thead>\n",
              "    <tr style=\"text-align: right;\">\n",
              "      <th></th>\n",
              "      <th>0</th>\n",
              "      <th>1</th>\n",
              "      <th>2</th>\n",
              "      <th>3</th>\n",
              "      <th>4</th>\n",
              "    </tr>\n",
              "  </thead>\n",
              "  <tbody>\n",
              "    <tr>\n",
              "      <th>0</th>\n",
              "      <td>Manual</td>\n",
              "      <td>Individual</td>\n",
              "      <td>Petrol</td>\n",
              "      <td>2007</td>\n",
              "      <td>70000</td>\n",
              "    </tr>\n",
              "    <tr>\n",
              "      <th>1</th>\n",
              "      <td>Manual</td>\n",
              "      <td>Individual</td>\n",
              "      <td>Petrol</td>\n",
              "      <td>2007</td>\n",
              "      <td>50000</td>\n",
              "    </tr>\n",
              "    <tr>\n",
              "      <th>2</th>\n",
              "      <td>Manual</td>\n",
              "      <td>Individual</td>\n",
              "      <td>Diesel</td>\n",
              "      <td>2012</td>\n",
              "      <td>100000</td>\n",
              "    </tr>\n",
              "    <tr>\n",
              "      <th>3</th>\n",
              "      <td>Manual</td>\n",
              "      <td>Individual</td>\n",
              "      <td>Petrol</td>\n",
              "      <td>2017</td>\n",
              "      <td>46000</td>\n",
              "    </tr>\n",
              "    <tr>\n",
              "      <th>4</th>\n",
              "      <td>Manual</td>\n",
              "      <td>Individual</td>\n",
              "      <td>Diesel</td>\n",
              "      <td>2014</td>\n",
              "      <td>141000</td>\n",
              "    </tr>\n",
              "    <tr>\n",
              "      <th>...</th>\n",
              "      <td>...</td>\n",
              "      <td>...</td>\n",
              "      <td>...</td>\n",
              "      <td>...</td>\n",
              "      <td>...</td>\n",
              "    </tr>\n",
              "    <tr>\n",
              "      <th>4335</th>\n",
              "      <td>Manual</td>\n",
              "      <td>Individual</td>\n",
              "      <td>Diesel</td>\n",
              "      <td>2014</td>\n",
              "      <td>80000</td>\n",
              "    </tr>\n",
              "    <tr>\n",
              "      <th>4336</th>\n",
              "      <td>Manual</td>\n",
              "      <td>Individual</td>\n",
              "      <td>Diesel</td>\n",
              "      <td>2014</td>\n",
              "      <td>80000</td>\n",
              "    </tr>\n",
              "    <tr>\n",
              "      <th>4337</th>\n",
              "      <td>Manual</td>\n",
              "      <td>Individual</td>\n",
              "      <td>Petrol</td>\n",
              "      <td>2009</td>\n",
              "      <td>83000</td>\n",
              "    </tr>\n",
              "    <tr>\n",
              "      <th>4338</th>\n",
              "      <td>Manual</td>\n",
              "      <td>Individual</td>\n",
              "      <td>Diesel</td>\n",
              "      <td>2016</td>\n",
              "      <td>90000</td>\n",
              "    </tr>\n",
              "    <tr>\n",
              "      <th>4339</th>\n",
              "      <td>Manual</td>\n",
              "      <td>Individual</td>\n",
              "      <td>Petrol</td>\n",
              "      <td>2016</td>\n",
              "      <td>40000</td>\n",
              "    </tr>\n",
              "  </tbody>\n",
              "</table>\n",
              "<p>4340 rows × 5 columns</p>\n",
              "</div>"
            ],
            "text/plain": [
              "           0           1       2     3       4\n",
              "0     Manual  Individual  Petrol  2007   70000\n",
              "1     Manual  Individual  Petrol  2007   50000\n",
              "2     Manual  Individual  Diesel  2012  100000\n",
              "3     Manual  Individual  Petrol  2017   46000\n",
              "4     Manual  Individual  Diesel  2014  141000\n",
              "...      ...         ...     ...   ...     ...\n",
              "4335  Manual  Individual  Diesel  2014   80000\n",
              "4336  Manual  Individual  Diesel  2014   80000\n",
              "4337  Manual  Individual  Petrol  2009   83000\n",
              "4338  Manual  Individual  Diesel  2016   90000\n",
              "4339  Manual  Individual  Petrol  2016   40000\n",
              "\n",
              "[4340 rows x 5 columns]"
            ]
          },
          "metadata": {
            "tags": []
          },
          "execution_count": 3
        }
      ]
    },
    {
      "cell_type": "code",
      "metadata": {
        "id": "c5C7gQ-tnObS"
      },
      "source": [
        "from sklearn.compose import make_column_transformer\n",
        "#make_column_transformer((OneHotEncoder(), [0]),(OneHotEncoder(), [1]))\n",
        "ct = ColumnTransformer(transformers=[('encoder',OneHotEncoder(),[0]),('encoder1',OneHotEncoder(),[1]),('encoder2',OneHotEncoder(),[2])],remainder='passthrough')\n",
        "ohe = OneHotEncoder()\n",
        "x = np.array(ct.fit_transform(x))"
      ],
      "execution_count": 7,
      "outputs": []
    },
    {
      "cell_type": "code",
      "metadata": {
        "id": "WoMM741knqs1"
      },
      "source": [
        "from sklearn.model_selection import train_test_split\n",
        "x_train,x_test,y_train,y_test = train_test_split(x,y,test_size=0.3,random_state=1)"
      ],
      "execution_count": 8,
      "outputs": []
    },
    {
      "cell_type": "markdown",
      "metadata": {
        "id": "j9s-b9ejom1T"
      },
      "source": [
        "LINEAR REGRESSION"
      ]
    },
    {
      "cell_type": "code",
      "metadata": {
        "id": "-gTmmWuWntaf"
      },
      "source": [
        "from sklearn.linear_model import LinearRegression\n",
        "lr = LinearRegression().fit(x_train,y_train)"
      ],
      "execution_count": 9,
      "outputs": []
    },
    {
      "cell_type": "markdown",
      "metadata": {
        "id": "aeXUsHQnpgSc"
      },
      "source": [
        "**DATA PREDICTION**"
      ]
    },
    {
      "cell_type": "code",
      "metadata": {
        "colab": {
          "base_uri": "https://localhost:8080/",
          "height": 419
        },
        "id": "qr_BBpi0nwXN",
        "outputId": "8e9c8a18-3360-4bc1-b5e1-c01af4e2a93c"
      },
      "source": [
        "df = pd.DataFrame(data = (y_test,lr.predict(x_test)))\n",
        "df = df.rename(index={0:'Actual',1:'Predicted'})\n",
        "df.transpose().round(2)"
      ],
      "execution_count": 10,
      "outputs": [
        {
          "output_type": "execute_result",
          "data": {
            "text/html": [
              "<div>\n",
              "<style scoped>\n",
              "    .dataframe tbody tr th:only-of-type {\n",
              "        vertical-align: middle;\n",
              "    }\n",
              "\n",
              "    .dataframe tbody tr th {\n",
              "        vertical-align: top;\n",
              "    }\n",
              "\n",
              "    .dataframe thead th {\n",
              "        text-align: right;\n",
              "    }\n",
              "</style>\n",
              "<table border=\"1\" class=\"dataframe\">\n",
              "  <thead>\n",
              "    <tr style=\"text-align: right;\">\n",
              "      <th></th>\n",
              "      <th>Actual</th>\n",
              "      <th>Predicted</th>\n",
              "    </tr>\n",
              "  </thead>\n",
              "  <tbody>\n",
              "    <tr>\n",
              "      <th>0</th>\n",
              "      <td>675000.0</td>\n",
              "      <td>807498.73</td>\n",
              "    </tr>\n",
              "    <tr>\n",
              "      <th>1</th>\n",
              "      <td>450000.0</td>\n",
              "      <td>571447.33</td>\n",
              "    </tr>\n",
              "    <tr>\n",
              "      <th>2</th>\n",
              "      <td>390000.0</td>\n",
              "      <td>479170.20</td>\n",
              "    </tr>\n",
              "    <tr>\n",
              "      <th>3</th>\n",
              "      <td>239000.0</td>\n",
              "      <td>444706.31</td>\n",
              "    </tr>\n",
              "    <tr>\n",
              "      <th>4</th>\n",
              "      <td>665000.0</td>\n",
              "      <td>644352.53</td>\n",
              "    </tr>\n",
              "    <tr>\n",
              "      <th>...</th>\n",
              "      <td>...</td>\n",
              "      <td>...</td>\n",
              "    </tr>\n",
              "    <tr>\n",
              "      <th>863</th>\n",
              "      <td>195000.0</td>\n",
              "      <td>151484.61</td>\n",
              "    </tr>\n",
              "    <tr>\n",
              "      <th>864</th>\n",
              "      <td>220000.0</td>\n",
              "      <td>514591.63</td>\n",
              "    </tr>\n",
              "    <tr>\n",
              "      <th>865</th>\n",
              "      <td>185000.0</td>\n",
              "      <td>405057.29</td>\n",
              "    </tr>\n",
              "    <tr>\n",
              "      <th>866</th>\n",
              "      <td>775000.0</td>\n",
              "      <td>582055.01</td>\n",
              "    </tr>\n",
              "    <tr>\n",
              "      <th>867</th>\n",
              "      <td>500000.0</td>\n",
              "      <td>596151.64</td>\n",
              "    </tr>\n",
              "  </tbody>\n",
              "</table>\n",
              "<p>868 rows × 2 columns</p>\n",
              "</div>"
            ],
            "text/plain": [
              "       Actual  Predicted\n",
              "0    675000.0  807498.73\n",
              "1    450000.0  571447.33\n",
              "2    390000.0  479170.20\n",
              "3    239000.0  444706.31\n",
              "4    665000.0  644352.53\n",
              "..        ...        ...\n",
              "863  195000.0  151484.61\n",
              "864  220000.0  514591.63\n",
              "865  185000.0  405057.29\n",
              "866  775000.0  582055.01\n",
              "867  500000.0  596151.64\n",
              "\n",
              "[868 rows x 2 columns]"
            ]
          },
          "metadata": {
            "tags": []
          },
          "execution_count": 10
        }
      ]
    },
    {
      "cell_type": "code",
      "metadata": {
        "colab": {
          "base_uri": "https://localhost:8080/"
        },
        "id": "HO0LQTC3n9i6",
        "outputId": "05e56d70-0309-4713-d02d-6646d3249608"
      },
      "source": [
        "print(lr.score(x_test,y_test))"
      ],
      "execution_count": 11,
      "outputs": [
        {
          "output_type": "stream",
          "text": [
            "0.5006288727587414\n"
          ],
          "name": "stdout"
        }
      ]
    }
  ]
}